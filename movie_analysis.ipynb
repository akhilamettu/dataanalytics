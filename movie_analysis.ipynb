{
 "cells": [
  {
   "cell_type": "code",
   "execution_count": 1,
   "id": "54a0489f-0949-4c21-8597-4b57b6347854",
   "metadata": {},
   "outputs": [],
   "source": [
    "#installing require packages\n",
    "import pandas as pd\n",
    "import numpy as np\n",
    "import seaborn as sns\n",
    "import matplotlib.pyplot as plt\n",
    "%matplotlib inline     \n",
    "sns.set(color_codes=True)\n"
   ]
  },
  {
   "cell_type": "code",
   "execution_count": 2,
   "id": "a4fd3310-deec-46ba-880a-c3055c7985fe",
   "metadata": {},
   "outputs": [],
   "source": [
    "data = pd.read_csv(\"imdb_top_tv_series.csv\")"
   ]
  },
  {
   "cell_type": "code",
   "execution_count": 3,
   "id": "54b2036b-6d09-4af4-b84e-0a0cf9e69bef",
   "metadata": {
    "scrolled": true
   },
   "outputs": [
    {
     "data": {
      "text/html": [
       "<div>\n",
       "<style scoped>\n",
       "    .dataframe tbody tr th:only-of-type {\n",
       "        vertical-align: middle;\n",
       "    }\n",
       "\n",
       "    .dataframe tbody tr th {\n",
       "        vertical-align: top;\n",
       "    }\n",
       "\n",
       "    .dataframe thead th {\n",
       "        text-align: right;\n",
       "    }\n",
       "</style>\n",
       "<table border=\"1\" class=\"dataframe\">\n",
       "  <thead>\n",
       "    <tr style=\"text-align: right;\">\n",
       "      <th></th>\n",
       "      <th>Title</th>\n",
       "      <th>Year</th>\n",
       "      <th>Parental Rating</th>\n",
       "      <th>Rating</th>\n",
       "      <th>Number of Votes</th>\n",
       "      <th>Description</th>\n",
       "    </tr>\n",
       "  </thead>\n",
       "  <tbody>\n",
       "    <tr>\n",
       "      <th>0</th>\n",
       "      <td>1. Game of Thrones</td>\n",
       "      <td>2011–2019</td>\n",
       "      <td>TV-MA</td>\n",
       "      <td>9.2</td>\n",
       "      <td>2.3M</td>\n",
       "      <td>Nine noble families fight for control over the...</td>\n",
       "    </tr>\n",
       "    <tr>\n",
       "      <th>1</th>\n",
       "      <td>2. Breaking Bad</td>\n",
       "      <td>2008–2013</td>\n",
       "      <td>TV-MA</td>\n",
       "      <td>9.5</td>\n",
       "      <td>2.1M</td>\n",
       "      <td>A chemistry teacher diagnosed with inoperable ...</td>\n",
       "    </tr>\n",
       "    <tr>\n",
       "      <th>2</th>\n",
       "      <td>3. Stranger Things</td>\n",
       "      <td>2016–2025</td>\n",
       "      <td>TV-14</td>\n",
       "      <td>8.7</td>\n",
       "      <td>1.3M</td>\n",
       "      <td>When a young boy vanishes, a small town uncove...</td>\n",
       "    </tr>\n",
       "    <tr>\n",
       "      <th>3</th>\n",
       "      <td>4. Friends</td>\n",
       "      <td>1994–2004</td>\n",
       "      <td>TV-14</td>\n",
       "      <td>8.9</td>\n",
       "      <td>1.1M</td>\n",
       "      <td>Follows the personal and professional lives of...</td>\n",
       "    </tr>\n",
       "    <tr>\n",
       "      <th>4</th>\n",
       "      <td>5. The Walking Dead</td>\n",
       "      <td>2010–2022</td>\n",
       "      <td>TV-MA</td>\n",
       "      <td>8.1</td>\n",
       "      <td>1.1M</td>\n",
       "      <td>Sheriff Deputy Rick Grimes wakes up from a com...</td>\n",
       "    </tr>\n",
       "  </tbody>\n",
       "</table>\n",
       "</div>"
      ],
      "text/plain": [
       "                 Title       Year Parental Rating  Rating Number of Votes  \\\n",
       "0   1. Game of Thrones  2011–2019           TV-MA     9.2            2.3M   \n",
       "1      2. Breaking Bad  2008–2013           TV-MA     9.5            2.1M   \n",
       "2   3. Stranger Things  2016–2025           TV-14     8.7            1.3M   \n",
       "3           4. Friends  1994–2004           TV-14     8.9            1.1M   \n",
       "4  5. The Walking Dead  2010–2022           TV-MA     8.1            1.1M   \n",
       "\n",
       "                                         Description  \n",
       "0  Nine noble families fight for control over the...  \n",
       "1  A chemistry teacher diagnosed with inoperable ...  \n",
       "2  When a young boy vanishes, a small town uncove...  \n",
       "3  Follows the personal and professional lives of...  \n",
       "4  Sheriff Deputy Rick Grimes wakes up from a com...  "
      ]
     },
     "execution_count": 3,
     "metadata": {},
     "output_type": "execute_result"
    }
   ],
   "source": [
    "data.head()"
   ]
  },
  {
   "cell_type": "code",
   "execution_count": 4,
   "id": "9afc1c88-55a2-49f1-9c6e-52943cd91acf",
   "metadata": {},
   "outputs": [
    {
     "data": {
      "text/html": [
       "<div>\n",
       "<style scoped>\n",
       "    .dataframe tbody tr th:only-of-type {\n",
       "        vertical-align: middle;\n",
       "    }\n",
       "\n",
       "    .dataframe tbody tr th {\n",
       "        vertical-align: top;\n",
       "    }\n",
       "\n",
       "    .dataframe thead th {\n",
       "        text-align: right;\n",
       "    }\n",
       "</style>\n",
       "<table border=\"1\" class=\"dataframe\">\n",
       "  <thead>\n",
       "    <tr style=\"text-align: right;\">\n",
       "      <th></th>\n",
       "      <th>Title</th>\n",
       "      <th>Year</th>\n",
       "      <th>Parental Rating</th>\n",
       "      <th>Rating</th>\n",
       "      <th>Number of Votes</th>\n",
       "      <th>Description</th>\n",
       "    </tr>\n",
       "  </thead>\n",
       "  <tbody>\n",
       "    <tr>\n",
       "      <th>890</th>\n",
       "      <td>891. Dear White People</td>\n",
       "      <td>2017–2021</td>\n",
       "      <td>TV-MA</td>\n",
       "      <td>6.4</td>\n",
       "      <td>26K</td>\n",
       "      <td>At a predominantly white Ivy League college, a...</td>\n",
       "    </tr>\n",
       "    <tr>\n",
       "      <th>891</th>\n",
       "      <td>892. House of Lies</td>\n",
       "      <td>2012–2016</td>\n",
       "      <td>TV-MA</td>\n",
       "      <td>7.4</td>\n",
       "      <td>26K</td>\n",
       "      <td>Charming, fast-talking Marty Kaan and his crac...</td>\n",
       "    </tr>\n",
       "    <tr>\n",
       "      <th>892</th>\n",
       "      <td>893. Permanent Roommates</td>\n",
       "      <td>2014–2023</td>\n",
       "      <td>TV-PG</td>\n",
       "      <td>8.6</td>\n",
       "      <td>26K</td>\n",
       "      <td>A couple, who were in a long distance relation...</td>\n",
       "    </tr>\n",
       "    <tr>\n",
       "      <th>893</th>\n",
       "      <td>894. Crashing</td>\n",
       "      <td>2016</td>\n",
       "      <td>TV-MA</td>\n",
       "      <td>7.6</td>\n",
       "      <td>26K</td>\n",
       "      <td>A comedy series following the lives of six 20-...</td>\n",
       "    </tr>\n",
       "    <tr>\n",
       "      <th>894</th>\n",
       "      <td>895. The Muppet Show</td>\n",
       "      <td>1976–1981</td>\n",
       "      <td>TV-G</td>\n",
       "      <td>8.4</td>\n",
       "      <td>26K</td>\n",
       "      <td>Kermit the Frog and his fellow Muppets put on ...</td>\n",
       "    </tr>\n",
       "    <tr>\n",
       "      <th>895</th>\n",
       "      <td>896. Lockwood &amp; Co.</td>\n",
       "      <td>2023</td>\n",
       "      <td>TV-14</td>\n",
       "      <td>7.4</td>\n",
       "      <td>26K</td>\n",
       "      <td>Lucy, a girl with psychic abilities, joins two...</td>\n",
       "    </tr>\n",
       "    <tr>\n",
       "      <th>896</th>\n",
       "      <td>897. Batman</td>\n",
       "      <td>1966–1968</td>\n",
       "      <td>TV-G</td>\n",
       "      <td>7.5</td>\n",
       "      <td>26K</td>\n",
       "      <td>The Caped Crusader and his young ward battle e...</td>\n",
       "    </tr>\n",
       "    <tr>\n",
       "      <th>897</th>\n",
       "      <td>898. How I Met Your Father</td>\n",
       "      <td>2022–2023</td>\n",
       "      <td>TV-14</td>\n",
       "      <td>5.7</td>\n",
       "      <td>26K</td>\n",
       "      <td>Sophie and her close-knit group of friends are...</td>\n",
       "    </tr>\n",
       "    <tr>\n",
       "      <th>898</th>\n",
       "      <td>899. Delhi Crime</td>\n",
       "      <td>2019–</td>\n",
       "      <td>TV-MA</td>\n",
       "      <td>8.5</td>\n",
       "      <td>26K</td>\n",
       "      <td>Based on the Nirbhaya case, Delhi Crime follow...</td>\n",
       "    </tr>\n",
       "    <tr>\n",
       "      <th>899</th>\n",
       "      <td>900. Caprica</td>\n",
       "      <td>2009–2010</td>\n",
       "      <td>TV-14</td>\n",
       "      <td>7.1</td>\n",
       "      <td>26K</td>\n",
       "      <td>Two families, the Graystones and the Adamas, l...</td>\n",
       "    </tr>\n",
       "  </tbody>\n",
       "</table>\n",
       "</div>"
      ],
      "text/plain": [
       "                          Title       Year Parental Rating  Rating  \\\n",
       "890      891. Dear White People  2017–2021           TV-MA     6.4   \n",
       "891          892. House of Lies  2012–2016           TV-MA     7.4   \n",
       "892    893. Permanent Roommates  2014–2023           TV-PG     8.6   \n",
       "893               894. Crashing       2016           TV-MA     7.6   \n",
       "894        895. The Muppet Show  1976–1981            TV-G     8.4   \n",
       "895         896. Lockwood & Co.       2023           TV-14     7.4   \n",
       "896                 897. Batman  1966–1968            TV-G     7.5   \n",
       "897  898. How I Met Your Father  2022–2023           TV-14     5.7   \n",
       "898            899. Delhi Crime      2019–           TV-MA     8.5   \n",
       "899                900. Caprica  2009–2010           TV-14     7.1   \n",
       "\n",
       "    Number of Votes                                        Description  \n",
       "890             26K  At a predominantly white Ivy League college, a...  \n",
       "891             26K  Charming, fast-talking Marty Kaan and his crac...  \n",
       "892             26K  A couple, who were in a long distance relation...  \n",
       "893             26K  A comedy series following the lives of six 20-...  \n",
       "894             26K  Kermit the Frog and his fellow Muppets put on ...  \n",
       "895             26K  Lucy, a girl with psychic abilities, joins two...  \n",
       "896             26K  The Caped Crusader and his young ward battle e...  \n",
       "897             26K  Sophie and her close-knit group of friends are...  \n",
       "898             26K  Based on the Nirbhaya case, Delhi Crime follow...  \n",
       "899             26K  Two families, the Graystones and the Adamas, l...  "
      ]
     },
     "execution_count": 4,
     "metadata": {},
     "output_type": "execute_result"
    }
   ],
   "source": [
    "data.tail(10)"
   ]
  },
  {
   "cell_type": "code",
   "execution_count": 5,
   "id": "b4da49f1-18e2-4427-b4d9-bd451fa91933",
   "metadata": {},
   "outputs": [
    {
     "data": {
      "text/plain": [
       "(900, 6)"
      ]
     },
     "execution_count": 5,
     "metadata": {},
     "output_type": "execute_result"
    }
   ],
   "source": [
    "data.shape"
   ]
  },
  {
   "cell_type": "code",
   "execution_count": 6,
   "id": "bd6b24a7-9267-4bdf-8df7-ed7abc5b4700",
   "metadata": {},
   "outputs": [
    {
     "data": {
      "text/plain": [
       "Title               object\n",
       "Year                object\n",
       "Parental Rating     object\n",
       "Rating             float64\n",
       "Number of Votes     object\n",
       "Description         object\n",
       "dtype: object"
      ]
     },
     "execution_count": 6,
     "metadata": {},
     "output_type": "execute_result"
    }
   ],
   "source": [
    "data.dtypes"
   ]
  },
  {
   "cell_type": "code",
   "execution_count": 7,
   "id": "65390d00-894f-40dd-8f2f-56df1367cb2d",
   "metadata": {},
   "outputs": [],
   "source": [
    "data=data.rename(columns={\"Title\" : \"title\", \"Year\" : \"year\", \"Parental Rating\" : \"parental_rating\", \"Rating\": \"rating\", \"Number of Votes\" : \"number_of_votes\", \"Description\" : \"description\"})"
   ]
  },
  {
   "cell_type": "code",
   "execution_count": 8,
   "id": "c476373f-1e4f-4e35-965f-9d5fe40a0ec7",
   "metadata": {},
   "outputs": [
    {
     "data": {
      "text/html": [
       "<div>\n",
       "<style scoped>\n",
       "    .dataframe tbody tr th:only-of-type {\n",
       "        vertical-align: middle;\n",
       "    }\n",
       "\n",
       "    .dataframe tbody tr th {\n",
       "        vertical-align: top;\n",
       "    }\n",
       "\n",
       "    .dataframe thead th {\n",
       "        text-align: right;\n",
       "    }\n",
       "</style>\n",
       "<table border=\"1\" class=\"dataframe\">\n",
       "  <thead>\n",
       "    <tr style=\"text-align: right;\">\n",
       "      <th></th>\n",
       "      <th>title</th>\n",
       "      <th>year</th>\n",
       "      <th>parental_rating</th>\n",
       "      <th>rating</th>\n",
       "      <th>number_of_votes</th>\n",
       "      <th>description</th>\n",
       "    </tr>\n",
       "  </thead>\n",
       "  <tbody>\n",
       "    <tr>\n",
       "      <th>0</th>\n",
       "      <td>1. Game of Thrones</td>\n",
       "      <td>2011–2019</td>\n",
       "      <td>TV-MA</td>\n",
       "      <td>9.2</td>\n",
       "      <td>2.3M</td>\n",
       "      <td>Nine noble families fight for control over the...</td>\n",
       "    </tr>\n",
       "    <tr>\n",
       "      <th>1</th>\n",
       "      <td>2. Breaking Bad</td>\n",
       "      <td>2008–2013</td>\n",
       "      <td>TV-MA</td>\n",
       "      <td>9.5</td>\n",
       "      <td>2.1M</td>\n",
       "      <td>A chemistry teacher diagnosed with inoperable ...</td>\n",
       "    </tr>\n",
       "    <tr>\n",
       "      <th>2</th>\n",
       "      <td>3. Stranger Things</td>\n",
       "      <td>2016–2025</td>\n",
       "      <td>TV-14</td>\n",
       "      <td>8.7</td>\n",
       "      <td>1.3M</td>\n",
       "      <td>When a young boy vanishes, a small town uncove...</td>\n",
       "    </tr>\n",
       "    <tr>\n",
       "      <th>3</th>\n",
       "      <td>4. Friends</td>\n",
       "      <td>1994–2004</td>\n",
       "      <td>TV-14</td>\n",
       "      <td>8.9</td>\n",
       "      <td>1.1M</td>\n",
       "      <td>Follows the personal and professional lives of...</td>\n",
       "    </tr>\n",
       "    <tr>\n",
       "      <th>4</th>\n",
       "      <td>5. The Walking Dead</td>\n",
       "      <td>2010–2022</td>\n",
       "      <td>TV-MA</td>\n",
       "      <td>8.1</td>\n",
       "      <td>1.1M</td>\n",
       "      <td>Sheriff Deputy Rick Grimes wakes up from a com...</td>\n",
       "    </tr>\n",
       "  </tbody>\n",
       "</table>\n",
       "</div>"
      ],
      "text/plain": [
       "                 title       year parental_rating  rating number_of_votes  \\\n",
       "0   1. Game of Thrones  2011–2019           TV-MA     9.2            2.3M   \n",
       "1      2. Breaking Bad  2008–2013           TV-MA     9.5            2.1M   \n",
       "2   3. Stranger Things  2016–2025           TV-14     8.7            1.3M   \n",
       "3           4. Friends  1994–2004           TV-14     8.9            1.1M   \n",
       "4  5. The Walking Dead  2010–2022           TV-MA     8.1            1.1M   \n",
       "\n",
       "                                         description  \n",
       "0  Nine noble families fight for control over the...  \n",
       "1  A chemistry teacher diagnosed with inoperable ...  \n",
       "2  When a young boy vanishes, a small town uncove...  \n",
       "3  Follows the personal and professional lives of...  \n",
       "4  Sheriff Deputy Rick Grimes wakes up from a com...  "
      ]
     },
     "execution_count": 8,
     "metadata": {},
     "output_type": "execute_result"
    }
   ],
   "source": [
    "data.head()"
   ]
  },
  {
   "cell_type": "code",
   "execution_count": 9,
   "id": "a68c89d7-1e80-4986-8d22-9e8b7aebaab1",
   "metadata": {},
   "outputs": [
    {
     "data": {
      "text/plain": [
       "array(['TV-MA', 'TV-14', 'TV-PG', 'TV-Y7-FV', nan, 'PG', 'TV-Y7',\n",
       "       'Not Rated', 'R', 'PG-13', 'Approved', 'TV-G', 'TV-Y'],\n",
       "      dtype=object)"
      ]
     },
     "execution_count": 9,
     "metadata": {},
     "output_type": "execute_result"
    }
   ],
   "source": [
    "data.parental_rating.unique()"
   ]
  },
  {
   "cell_type": "code",
   "execution_count": 10,
   "id": "d0ae3620-18f6-4b47-99a6-2ef1b74dbaa5",
   "metadata": {},
   "outputs": [
    {
     "data": {
      "text/plain": [
       "title              900\n",
       "year               888\n",
       "parental_rating    888\n",
       "rating             900\n",
       "number_of_votes    900\n",
       "description        900\n",
       "dtype: int64"
      ]
     },
     "execution_count": 10,
     "metadata": {},
     "output_type": "execute_result"
    }
   ],
   "source": [
    "data.count()"
   ]
  },
  {
   "cell_type": "code",
   "execution_count": 11,
   "id": "1b98f21f-4262-4255-a6b0-ce71b000c120",
   "metadata": {
    "scrolled": true
   },
   "outputs": [
    {
     "data": {
      "text/plain": [
       "title               0\n",
       "year               12\n",
       "parental_rating    12\n",
       "rating              0\n",
       "number_of_votes     0\n",
       "description         0\n",
       "dtype: int64"
      ]
     },
     "execution_count": 11,
     "metadata": {},
     "output_type": "execute_result"
    }
   ],
   "source": [
    "data.isnull().sum()"
   ]
  },
  {
   "cell_type": "code",
   "execution_count": 12,
   "id": "c7c510e9-0dbb-44c8-b8af-5ed2d7bd01f3",
   "metadata": {},
   "outputs": [
    {
     "data": {
      "text/plain": [
       "title              888\n",
       "year               888\n",
       "parental_rating    888\n",
       "rating             888\n",
       "number_of_votes    888\n",
       "description        888\n",
       "dtype: int64"
      ]
     },
     "execution_count": 12,
     "metadata": {},
     "output_type": "execute_result"
    }
   ],
   "source": [
    "# Dropping the missing values.\n",
    "data = data.dropna()    \n",
    "data.count()"
   ]
  },
  {
   "cell_type": "code",
   "execution_count": 13,
   "id": "6f464c20-1822-444f-ab13-977bebcba346",
   "metadata": {
    "scrolled": true
   },
   "outputs": [
    {
     "name": "stdout",
     "output_type": "stream",
     "text": [
      "number of duplicate observations in data:  (0, 6)\n"
     ]
    }
   ],
   "source": [
    "#checking duplicated values\n",
    "data_duplicate_observations = data[data.duplicated()]\n",
    "print(\"number of duplicate observations in data: \", data_duplicate_observations.shape)"
   ]
  },
  {
   "cell_type": "code",
   "execution_count": 14,
   "id": "ed60665e-b836-41c2-bbde-61c811171881",
   "metadata": {
    "scrolled": true
   },
   "outputs": [
    {
     "data": {
      "text/plain": [
       "array(['TV-MA', 'TV-14', 'TV-PG', 'TV-Y7-FV', 'PG', 'TV-Y7', 'Not Rated',\n",
       "       'R', 'PG-13', 'Approved', 'TV-G', 'TV-Y'], dtype=object)"
      ]
     },
     "execution_count": 14,
     "metadata": {},
     "output_type": "execute_result"
    }
   ],
   "source": [
    "data.parental_rating.unique()"
   ]
  },
  {
   "cell_type": "code",
   "execution_count": 15,
   "id": "55f5494c-0e71-44dd-bfd1-a08c7dbb4545",
   "metadata": {
    "scrolled": true
   },
   "outputs": [
    {
     "data": {
      "text/plain": [
       "888"
      ]
     },
     "execution_count": 15,
     "metadata": {},
     "output_type": "execute_result"
    }
   ],
   "source": [
    "data.parental_rating.count()"
   ]
  },
  {
   "cell_type": "code",
   "execution_count": 16,
   "id": "6f2ff09a-6f26-4fd0-afb8-31f06ca52b43",
   "metadata": {},
   "outputs": [
    {
     "data": {
      "text/html": [
       "<div>\n",
       "<style scoped>\n",
       "    .dataframe tbody tr th:only-of-type {\n",
       "        vertical-align: middle;\n",
       "    }\n",
       "\n",
       "    .dataframe tbody tr th {\n",
       "        vertical-align: top;\n",
       "    }\n",
       "\n",
       "    .dataframe thead th {\n",
       "        text-align: right;\n",
       "    }\n",
       "</style>\n",
       "<table border=\"1\" class=\"dataframe\">\n",
       "  <thead>\n",
       "    <tr style=\"text-align: right;\">\n",
       "      <th></th>\n",
       "      <th>rating</th>\n",
       "    </tr>\n",
       "  </thead>\n",
       "  <tbody>\n",
       "    <tr>\n",
       "      <th>count</th>\n",
       "      <td>888.000000</td>\n",
       "    </tr>\n",
       "    <tr>\n",
       "      <th>mean</th>\n",
       "      <td>7.858446</td>\n",
       "    </tr>\n",
       "    <tr>\n",
       "      <th>std</th>\n",
       "      <td>0.810303</td>\n",
       "    </tr>\n",
       "    <tr>\n",
       "      <th>min</th>\n",
       "      <td>1.600000</td>\n",
       "    </tr>\n",
       "    <tr>\n",
       "      <th>25%</th>\n",
       "      <td>7.500000</td>\n",
       "    </tr>\n",
       "    <tr>\n",
       "      <th>50%</th>\n",
       "      <td>8.000000</td>\n",
       "    </tr>\n",
       "    <tr>\n",
       "      <th>75%</th>\n",
       "      <td>8.400000</td>\n",
       "    </tr>\n",
       "    <tr>\n",
       "      <th>max</th>\n",
       "      <td>9.500000</td>\n",
       "    </tr>\n",
       "  </tbody>\n",
       "</table>\n",
       "</div>"
      ],
      "text/plain": [
       "           rating\n",
       "count  888.000000\n",
       "mean     7.858446\n",
       "std      0.810303\n",
       "min      1.600000\n",
       "25%      7.500000\n",
       "50%      8.000000\n",
       "75%      8.400000\n",
       "max      9.500000"
      ]
     },
     "execution_count": 16,
     "metadata": {},
     "output_type": "execute_result"
    }
   ],
   "source": [
    "data.describe()"
   ]
  },
  {
   "cell_type": "code",
   "execution_count": 17,
   "id": "a93687c4-2607-417f-8a91-37a249784071",
   "metadata": {},
   "outputs": [
    {
     "data": {
      "text/html": [
       "<div>\n",
       "<style scoped>\n",
       "    .dataframe tbody tr th:only-of-type {\n",
       "        vertical-align: middle;\n",
       "    }\n",
       "\n",
       "    .dataframe tbody tr th {\n",
       "        vertical-align: top;\n",
       "    }\n",
       "\n",
       "    .dataframe thead th {\n",
       "        text-align: right;\n",
       "    }\n",
       "</style>\n",
       "<table border=\"1\" class=\"dataframe\">\n",
       "  <thead>\n",
       "    <tr style=\"text-align: right;\">\n",
       "      <th></th>\n",
       "      <th>title</th>\n",
       "      <th>year</th>\n",
       "      <th>parental_rating</th>\n",
       "      <th>number_of_votes</th>\n",
       "      <th>description</th>\n",
       "    </tr>\n",
       "  </thead>\n",
       "  <tbody>\n",
       "    <tr>\n",
       "      <th>count</th>\n",
       "      <td>888</td>\n",
       "      <td>888</td>\n",
       "      <td>888</td>\n",
       "      <td>888</td>\n",
       "      <td>888</td>\n",
       "    </tr>\n",
       "    <tr>\n",
       "      <th>unique</th>\n",
       "      <td>888</td>\n",
       "      <td>331</td>\n",
       "      <td>12</td>\n",
       "      <td>241</td>\n",
       "      <td>888</td>\n",
       "    </tr>\n",
       "    <tr>\n",
       "      <th>top</th>\n",
       "      <td>1. Game of Thrones</td>\n",
       "      <td>2022–</td>\n",
       "      <td>TV-MA</td>\n",
       "      <td>28K</td>\n",
       "      <td>Nine noble families fight for control over the...</td>\n",
       "    </tr>\n",
       "    <tr>\n",
       "      <th>freq</th>\n",
       "      <td>1</td>\n",
       "      <td>33</td>\n",
       "      <td>377</td>\n",
       "      <td>30</td>\n",
       "      <td>1</td>\n",
       "    </tr>\n",
       "  </tbody>\n",
       "</table>\n",
       "</div>"
      ],
      "text/plain": [
       "                     title   year parental_rating number_of_votes  \\\n",
       "count                  888    888             888             888   \n",
       "unique                 888    331              12             241   \n",
       "top     1. Game of Thrones  2022–           TV-MA             28K   \n",
       "freq                     1     33             377              30   \n",
       "\n",
       "                                              description  \n",
       "count                                                 888  \n",
       "unique                                                888  \n",
       "top     Nine noble families fight for control over the...  \n",
       "freq                                                    1  "
      ]
     },
     "execution_count": 17,
     "metadata": {},
     "output_type": "execute_result"
    }
   ],
   "source": [
    "data.describe(include = ['object'])"
   ]
  },
  {
   "cell_type": "code",
   "execution_count": 18,
   "id": "a3f5389b-27f5-4093-9705-12d4315abf11",
   "metadata": {},
   "outputs": [
    {
     "data": {
      "text/plain": [
       "12"
      ]
     },
     "execution_count": 18,
     "metadata": {},
     "output_type": "execute_result"
    }
   ],
   "source": [
    "data.parental_rating.nunique()"
   ]
  },
  {
   "cell_type": "code",
   "execution_count": 19,
   "id": "40c9e9ad-7e74-4073-a9d4-1a016495b1fb",
   "metadata": {},
   "outputs": [
    {
     "data": {
      "text/plain": [
       "parental_rating\n",
       "TV-MA        377\n",
       "TV-14        307\n",
       "TV-PG        145\n",
       "TV-G          22\n",
       "TV-Y7         15\n",
       "TV-Y7-FV       7\n",
       "Not Rated      6\n",
       "TV-Y           5\n",
       "PG             1\n",
       "R              1\n",
       "PG-13          1\n",
       "Approved       1\n",
       "Name: count, dtype: int64"
      ]
     },
     "execution_count": 19,
     "metadata": {},
     "output_type": "execute_result"
    }
   ],
   "source": [
    "data.parental_rating.value_counts()"
   ]
  },
  {
   "cell_type": "code",
   "execution_count": 20,
   "id": "80f4037e-534b-4415-9f87-07601956938b",
   "metadata": {},
   "outputs": [],
   "source": [
    "#Now identified parental rating, but need to understand the meaning of those categories\n",
    "#TV-MA: Content designed for adults that may be unsuitable for children under 17.\n",
    "#TV-14: Content designed for audiences 14 and older.\n",
    "#TV-PG: Content that contains material parents may find unsuitable for younger children.\n",
    "#TV-G: Content designed for all ages but not necessarily aimed at children.\n",
    "#TV-Y7: Content designed for children aged 7 and above.\n",
    "#TV-Y7-FV: Content designed for children aged 7 and above+Fantasy violence\n",
    "#Not Rated: not received any rating\n",
    "#TV-Y: Content designed to be appropriate for all children.\n",
    "#PG – Parental Guidance Suggested: Some material may not be suitable for children.\n",
    "#R – Restricted: Under 17 requires accompanying parent or adult guardian.\n",
    "#PG-13 – Parents Strongly Cautioned: Some material may be inappropriate for children under 13.\n",
    "#Appproved:"
   ]
  },
  {
   "cell_type": "code",
   "execution_count": 22,
   "id": "e0e21f16-a44c-4906-b7ce-89887fd16895",
   "metadata": {},
   "outputs": [
    {
     "data": {
      "text/plain": [
       "<Axes: xlabel='rating'>"
      ]
     },
     "execution_count": 22,
     "metadata": {},
     "output_type": "execute_result"
    },
    {
     "data": {
      "image/png": "[encoded data removed]",
      "text/plain": [
       "<Figure size 640x480 with 1 Axes>"
      ]
     },
     "metadata": {},
     "output_type": "display_data"
    }
   ],
   "source": [
    "#finding outliers\n",
    "sns.boxplot(x=data[\"rating\"])"
   ]
  },
  {
   "cell_type": "code",
   "execution_count": 23,
   "id": "bce71a75-fb39-42f3-b0b5-3a44d009a651",
   "metadata": {},
   "outputs": [
    {
     "data": {
      "image/png": "[encoded data removed]",
      "text/plain": [
       "<Figure size 1000x600 with 1 Axes>"
      ]
     },
     "metadata": {},
     "output_type": "display_data"
    }
   ],
   "source": [
    "#rating vs number of votes\n",
    "fig, ax = plt.subplots(figsize=(10,6))\n",
    "ax.scatter(data[\"rating\"], data[\"number_of_votes\"])\n",
    "ax.set_xlabel(\"rating\")\n",
    "ax.set_ylabel(\"number_of_votes\")\n",
    "plt.show()"
   ]
  },
  {
   "cell_type": "code",
   "execution_count": 32,
   "id": "98c73657-912d-44ca-830d-16f8ca6f0186",
   "metadata": {},
   "outputs": [],
   "source": [
    "import pandas as pd\n",
    "\n",
    "# Assuming your dataset is stored in a DataFrame called 'df' and the column containing abbreviated numbers is called 'voters_data'\n",
    "\n",
    "def convert_abbreviated_number(abbrev_num):\n",
    "    suffixes = {\n",
    "        'K': 1000,\n",
    "        'M': 1000000,\n",
    "        'B': 1000000000\n",
    "    }\n",
    "\n",
    "    # Extract the numeric part of the string\n",
    "    numeric_part = float(abbrev_num[:-1])\n",
    "\n",
    "    # Get the suffix character\n",
    "    suffix_char = abbrev_num[-1].upper()\n",
    "\n",
    "    # Multiply the numeric part by the corresponding multiplier\n",
    "    if suffix_char in suffixes:\n",
    "        return int(numeric_part * suffixes[suffix_char])\n",
    "    else:\n",
    "        return int(abbrev_num)\n",
    "\n",
    "# Apply the conversion function to the entire column\n",
    "data[\"number_of_votes\"] = data[\"number_of_votes\"].apply(convert_abbreviated_number)\n",
    "\n",
    "# Now, 'voters_data' column contains the converted numerical values"
   ]
  },
  {
   "cell_type": "code",
   "execution_count": 33,
   "id": "f40a8541-dc27-4429-9a5d-053dec08e9fd",
   "metadata": {},
   "outputs": [
    {
     "data": {
      "text/html": [
       "<div>\n",
       "<style scoped>\n",
       "    .dataframe tbody tr th:only-of-type {\n",
       "        vertical-align: middle;\n",
       "    }\n",
       "\n",
       "    .dataframe tbody tr th {\n",
       "        vertical-align: top;\n",
       "    }\n",
       "\n",
       "    .dataframe thead th {\n",
       "        text-align: right;\n",
       "    }\n",
       "</style>\n",
       "<table border=\"1\" class=\"dataframe\">\n",
       "  <thead>\n",
       "    <tr style=\"text-align: right;\">\n",
       "      <th></th>\n",
       "      <th>title</th>\n",
       "      <th>year</th>\n",
       "      <th>parental_rating</th>\n",
       "      <th>rating</th>\n",
       "      <th>number_of_votes</th>\n",
       "      <th>description</th>\n",
       "    </tr>\n",
       "  </thead>\n",
       "  <tbody>\n",
       "    <tr>\n",
       "      <th>0</th>\n",
       "      <td>1. Game of Thrones</td>\n",
       "      <td>2011–2019</td>\n",
       "      <td>TV-MA</td>\n",
       "      <td>9.2</td>\n",
       "      <td>2300000</td>\n",
       "      <td>Nine noble families fight for control over the...</td>\n",
       "    </tr>\n",
       "    <tr>\n",
       "      <th>1</th>\n",
       "      <td>2. Breaking Bad</td>\n",
       "      <td>2008–2013</td>\n",
       "      <td>TV-MA</td>\n",
       "      <td>9.5</td>\n",
       "      <td>2100000</td>\n",
       "      <td>A chemistry teacher diagnosed with inoperable ...</td>\n",
       "    </tr>\n",
       "    <tr>\n",
       "      <th>2</th>\n",
       "      <td>3. Stranger Things</td>\n",
       "      <td>2016–2025</td>\n",
       "      <td>TV-14</td>\n",
       "      <td>8.7</td>\n",
       "      <td>1300000</td>\n",
       "      <td>When a young boy vanishes, a small town uncove...</td>\n",
       "    </tr>\n",
       "    <tr>\n",
       "      <th>3</th>\n",
       "      <td>4. Friends</td>\n",
       "      <td>1994–2004</td>\n",
       "      <td>TV-14</td>\n",
       "      <td>8.9</td>\n",
       "      <td>1100000</td>\n",
       "      <td>Follows the personal and professional lives of...</td>\n",
       "    </tr>\n",
       "    <tr>\n",
       "      <th>4</th>\n",
       "      <td>5. The Walking Dead</td>\n",
       "      <td>2010–2022</td>\n",
       "      <td>TV-MA</td>\n",
       "      <td>8.1</td>\n",
       "      <td>1100000</td>\n",
       "      <td>Sheriff Deputy Rick Grimes wakes up from a com...</td>\n",
       "    </tr>\n",
       "    <tr>\n",
       "      <th>...</th>\n",
       "      <td>...</td>\n",
       "      <td>...</td>\n",
       "      <td>...</td>\n",
       "      <td>...</td>\n",
       "      <td>...</td>\n",
       "      <td>...</td>\n",
       "    </tr>\n",
       "    <tr>\n",
       "      <th>895</th>\n",
       "      <td>896. Lockwood &amp; Co.</td>\n",
       "      <td>2023</td>\n",
       "      <td>TV-14</td>\n",
       "      <td>7.4</td>\n",
       "      <td>26000</td>\n",
       "      <td>Lucy, a girl with psychic abilities, joins two...</td>\n",
       "    </tr>\n",
       "    <tr>\n",
       "      <th>896</th>\n",
       "      <td>897. Batman</td>\n",
       "      <td>1966–1968</td>\n",
       "      <td>TV-G</td>\n",
       "      <td>7.5</td>\n",
       "      <td>26000</td>\n",
       "      <td>The Caped Crusader and his young ward battle e...</td>\n",
       "    </tr>\n",
       "    <tr>\n",
       "      <th>897</th>\n",
       "      <td>898. How I Met Your Father</td>\n",
       "      <td>2022–2023</td>\n",
       "      <td>TV-14</td>\n",
       "      <td>5.7</td>\n",
       "      <td>26000</td>\n",
       "      <td>Sophie and her close-knit group of friends are...</td>\n",
       "    </tr>\n",
       "    <tr>\n",
       "      <th>898</th>\n",
       "      <td>899. Delhi Crime</td>\n",
       "      <td>2019–</td>\n",
       "      <td>TV-MA</td>\n",
       "      <td>8.5</td>\n",
       "      <td>26000</td>\n",
       "      <td>Based on the Nirbhaya case, Delhi Crime follow...</td>\n",
       "    </tr>\n",
       "    <tr>\n",
       "      <th>899</th>\n",
       "      <td>900. Caprica</td>\n",
       "      <td>2009–2010</td>\n",
       "      <td>TV-14</td>\n",
       "      <td>7.1</td>\n",
       "      <td>26000</td>\n",
       "      <td>Two families, the Graystones and the Adamas, l...</td>\n",
       "    </tr>\n",
       "  </tbody>\n",
       "</table>\n",
       "<p>888 rows × 6 columns</p>\n",
       "</div>"
      ],
      "text/plain": [
       "                          title       year parental_rating  rating  \\\n",
       "0            1. Game of Thrones  2011–2019           TV-MA     9.2   \n",
       "1               2. Breaking Bad  2008–2013           TV-MA     9.5   \n",
       "2            3. Stranger Things  2016–2025           TV-14     8.7   \n",
       "3                    4. Friends  1994–2004           TV-14     8.9   \n",
       "4           5. The Walking Dead  2010–2022           TV-MA     8.1   \n",
       "..                          ...        ...             ...     ...   \n",
       "895         896. Lockwood & Co.       2023           TV-14     7.4   \n",
       "896                 897. Batman  1966–1968            TV-G     7.5   \n",
       "897  898. How I Met Your Father  2022–2023           TV-14     5.7   \n",
       "898            899. Delhi Crime      2019–           TV-MA     8.5   \n",
       "899                900. Caprica  2009–2010           TV-14     7.1   \n",
       "\n",
       "     number_of_votes                                        description  \n",
       "0            2300000  Nine noble families fight for control over the...  \n",
       "1            2100000  A chemistry teacher diagnosed with inoperable ...  \n",
       "2            1300000  When a young boy vanishes, a small town uncove...  \n",
       "3            1100000  Follows the personal and professional lives of...  \n",
       "4            1100000  Sheriff Deputy Rick Grimes wakes up from a com...  \n",
       "..               ...                                                ...  \n",
       "895            26000  Lucy, a girl with psychic abilities, joins two...  \n",
       "896            26000  The Caped Crusader and his young ward battle e...  \n",
       "897            26000  Sophie and her close-knit group of friends are...  \n",
       "898            26000  Based on the Nirbhaya case, Delhi Crime follow...  \n",
       "899            26000  Two families, the Graystones and the Adamas, l...  \n",
       "\n",
       "[888 rows x 6 columns]"
      ]
     },
     "execution_count": 33,
     "metadata": {},
     "output_type": "execute_result"
    }
   ],
   "source": [
    "data"
   ]
  },
  {
   "cell_type": "code",
   "execution_count": 34,
   "id": "c8014378-e9e1-4f8c-8d21-115ac80acb75",
   "metadata": {
    "scrolled": true
   },
   "outputs": [
    {
     "data": {
      "image/png": "[encoded data removed]",
      "text/plain": [
       "<Figure size 1000x600 with 1 Axes>"
      ]
     },
     "metadata": {},
     "output_type": "display_data"
    }
   ],
   "source": [
    "#rating vs number of votes\n",
    "fig, ax = plt.subplots(figsize=(10,6))\n",
    "ax.scatter(data[\"rating\"], data[\"number_of_votes\"])\n",
    "ax.set_xlabel(\"rating\")\n",
    "ax.set_ylabel(\"number_of_votes\")\n",
    "plt.show()"
   ]
  },
  {
   "cell_type": "code",
   "execution_count": 35,
   "id": "0f0f50fd-4982-4632-9f23-3e0230ca7988",
   "metadata": {},
   "outputs": [
    {
     "data": {
      "image/png": "[encoded data removed]",
      "text/plain": [
       "<Figure size 1000x600 with 1 Axes>"
      ]
     },
     "metadata": {},
     "output_type": "display_data"
    }
   ],
   "source": [
    "#rating vs number of votes\n",
    "fig, ax = plt.subplots(figsize=(10,6))\n",
    "ax.scatter(data[\"number_of_votes\"], data[\"rating\"])\n",
    "ax.set_xlabel(\"number_of_votes\")\n",
    "ax.set_ylabel(\"rating\")\n",
    "plt.show()"
   ]
  },
  {
   "cell_type": "code",
   "execution_count": 36,
   "id": "c024ef57-ed45-4d9a-bc3c-8d22c55fad8a",
   "metadata": {},
   "outputs": [],
   "source": [
    "#which parental rating has highest rating\n",
    "max_rating_by_parental_rating = data.groupby('parental_rating')['rating'].max()\n"
   ]
  },
  {
   "cell_type": "code",
   "execution_count": 37,
   "id": "b52ff6b1-472d-4c34-8110-79ae260f7ff3",
   "metadata": {},
   "outputs": [
    {
     "data": {
      "text/plain": [
       "parental_rating\n",
       "TV-MA        9.5\n",
       "TV-Y         9.4\n",
       "TV-PG        9.3\n",
       "TV-Y7-FV     9.3\n",
       "TV-14        9.1\n",
       "TV-Y7        8.9\n",
       "Not Rated    8.8\n",
       "TV-G         8.6\n",
       "Approved     8.5\n",
       "PG           8.4\n",
       "R            7.9\n",
       "PG-13        7.3\n",
       "Name: rating, dtype: float64"
      ]
     },
     "execution_count": 37,
     "metadata": {},
     "output_type": "execute_result"
    }
   ],
   "source": [
    "sorted_max_rating_by_parental_rating= max_rating_by_parental_rating.sort_values(ascending=False)\n",
    "sorted_max_rating_by_parental_rating"
   ]
  },
  {
   "cell_type": "code",
   "execution_count": 38,
   "id": "70337693-6e25-4a0c-b3eb-f16ef6f18148",
   "metadata": {},
   "outputs": [],
   "source": [
    "#which parental rating has highest number of votes\n",
    "rating_votes = data.groupby(\"parental_rating\")[\"number_of_votes\"].sum()\n"
   ]
  },
  {
   "cell_type": "code",
   "execution_count": 39,
   "id": "bc8c07ca-c08c-41b2-b180-3b2019e91072",
   "metadata": {},
   "outputs": [],
   "source": [
    "sorted_rating_votes = rating_votes.sort_values(ascending=False)"
   ]
  },
  {
   "cell_type": "code",
   "execution_count": 40,
   "id": "3b875429-bd1f-4700-b119-a022a40421c9",
   "metadata": {},
   "outputs": [
    {
     "data": {
      "text/plain": [
       "parental_rating\n",
       "TV-MA        49651000\n",
       "TV-14        35318000\n",
       "TV-PG        11659000\n",
       "TV-G           846000\n",
       "TV-Y7          768000\n",
       "TV-Y7-FV       617000\n",
       "Not Rated      383000\n",
       "PG             180000\n",
       "TV-Y           158000\n",
       "R              108000\n",
       "PG-13           82000\n",
       "Approved        66000\n",
       "Name: number_of_votes, dtype: int64"
      ]
     },
     "execution_count": 40,
     "metadata": {},
     "output_type": "execute_result"
    }
   ],
   "source": [
    "sorted_rating_votes"
   ]
  },
  {
   "cell_type": "code",
   "execution_count": 41,
   "id": "f9ea4437-9740-4dba-9c22-0934b5e15999",
   "metadata": {},
   "outputs": [],
   "source": [
    "#which parental rating has highest number of average votes\n",
    "avg_rating_votes = data.groupby(\"parental_rating\")[\"number_of_votes\"].mean()"
   ]
  },
  {
   "cell_type": "code",
   "execution_count": 42,
   "id": "29778253-e7e1-4d55-b533-303c5faa140a",
   "metadata": {},
   "outputs": [],
   "source": [
    "sorted_avg_rating_votes = avg_rating_votes.sort_values(ascending=False)"
   ]
  },
  {
   "cell_type": "code",
   "execution_count": 43,
   "id": "dbcedb2a-4b97-4103-af2b-f08960961d09",
   "metadata": {},
   "outputs": [
    {
     "data": {
      "text/plain": [
       "parental_rating\n",
       "PG           180000.000000\n",
       "TV-MA        131700.265252\n",
       "TV-14        115042.345277\n",
       "R            108000.000000\n",
       "TV-Y7-FV      88142.857143\n",
       "PG-13         82000.000000\n",
       "TV-PG         80406.896552\n",
       "Approved      66000.000000\n",
       "Not Rated     63833.333333\n",
       "TV-Y7         51200.000000\n",
       "TV-G          38454.545455\n",
       "TV-Y          31600.000000\n",
       "Name: number_of_votes, dtype: float64"
      ]
     },
     "execution_count": 43,
     "metadata": {},
     "output_type": "execute_result"
    }
   ],
   "source": [
    "sorted_avg_rating_votes"
   ]
  },
  {
   "cell_type": "code",
   "execution_count": 53,
   "id": "66ddabbc-2cc3-4258-9696-edf5dfceb526",
   "metadata": {},
   "outputs": [
    {
     "data": {
      "text/plain": [
       "38454.545454545456"
      ]
     },
     "execution_count": 53,
     "metadata": {},
     "output_type": "execute_result"
    }
   ],
   "source": [
    "846000/22"
   ]
  },
  {
   "cell_type": "code",
   "execution_count": 48,
   "id": "a9f19863-c2ea-4bfc-8cd8-bc59eca4a218",
   "metadata": {},
   "outputs": [],
   "source": [
    "#top 5 high rated movies\n",
    "higher_rating_movie = data.groupby(\"title\")[\"rating\"].max()"
   ]
  },
  {
   "cell_type": "code",
   "execution_count": 51,
   "id": "8a19c475-b797-4cea-b769-00dcd48d7f3c",
   "metadata": {},
   "outputs": [
    {
     "data": {
      "text/plain": [
       "title\n",
       "1. Game of Thrones                   9.2\n",
       "10. The Office                       9.0\n",
       "100. Yellowstone                     8.7\n",
       "101. The End of the F***ing World    8.0\n",
       "102. Criminal Minds                  8.1\n",
       "Name: rating, dtype: float64"
      ]
     },
     "execution_count": 51,
     "metadata": {},
     "output_type": "execute_result"
    }
   ],
   "source": [
    "higher_rating_movie.head(5)"
   ]
  },
  {
   "cell_type": "code",
   "execution_count": 53,
   "id": "5a0240b2-709a-470a-9c19-3af7d6f3e6de",
   "metadata": {},
   "outputs": [],
   "source": [
    "#top five highly voted movies\n",
    "higher_voted_movie = data.groupby(\"title\")[\"number_of_votes\"].max()"
   ]
  },
  {
   "cell_type": "code",
   "execution_count": 54,
   "id": "16066cdb-d577-4a21-b20b-138062bcb112",
   "metadata": {},
   "outputs": [
    {
     "data": {
      "text/plain": [
       "title\n",
       "1. Game of Thrones                   2300000\n",
       "10. The Office                        716000\n",
       "100. Yellowstone                      223000\n",
       "101. The End of the F***ing World     221000\n",
       "102. Criminal Minds                   220000\n",
       "Name: number_of_votes, dtype: int64"
      ]
     },
     "execution_count": 54,
     "metadata": {},
     "output_type": "execute_result"
    }
   ],
   "source": [
    "higher_voted_movie.head(5)"
   ]
  },
  {
   "cell_type": "code",
   "execution_count": null,
   "id": "48a2d7fd-a9c2-4ca3-9210-b3df574a3f8b",
   "metadata": {},
   "outputs": [],
   "source": [
    "#we can see that there is a positive relation between the number of votes and the rating\n",
    "#Game of thrones registered 2300000 votes, and 9.2 rating"
   ]
  }
 ],
 "metadata": {
  "kernelspec": {
   "display_name": "Python 3 (ipykernel)",
   "language": "python",
   "name": "python3"
  },
  "language_info": {
   "codemirror_mode": {
    "name": "ipython",
    "version": 3
   },
   "file_extension": ".py",
   "mimetype": "text/x-python",
   "name": "python",
   "nbconvert_exporter": "python",
   "pygments_lexer": "ipython3",
   "version": "3.8.19"
  }
 },
 "nbformat": 4,
 "nbformat_minor": 5
}
